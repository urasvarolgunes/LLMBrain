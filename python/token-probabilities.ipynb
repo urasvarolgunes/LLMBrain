{
 "cells": [
  {
   "cell_type": "code",
   "execution_count": null,
   "metadata": {},
   "outputs": [],
   "source": [
    "import torch\n",
    "from transformers import AutoModelForCausalLM, AutoTokenizer\n",
    "\n",
    "model = AutoModelForCausalLM.from_pretrained('gpt2')\n",
    "tokenizer = AutoTokenizer.from_pretrained('gpt2')\n",
    "\n",
    "def generate_next_word_probs(text):\n",
    "    inputs = tokenizer(text, return_tensors='pt')\n",
    "    next_token_probs = model(**inputs).logits[0][-1]\n",
    "    next_token_probs = torch.nn.functional.softmax(next_token_probs, dim=0)\n",
    "    values, indices = next_token_probs.topk(10)\n",
    "    tokens = tokenizer.convert_ids_to_tokens(indices)\n",
    "    tokens = [token[1:] for token in tokens]\n",
    "    return list(zip(tokens, values.tolist()))\n",
    "\n",
    "# init_text = 'I am going to be'\n",
    "# for i in range(5):\n",
    "#     probs = generate_next_word_probs(init_text)\n",
    "#     #print(probs)\n",
    "#     init_text += ' ' + probs[0][0]\n",
    "#     print(init_text)\n",
    "\n",
    "from flask import Flask\n",
    "from flask import request\n",
    "\n",
    "app = Flask(__name__)\n",
    "\n",
    "@app.route('/users/<user_id>', methods = ['GET', 'POST'])\n",
    "def user(user_id):\n",
    "    if request.method == 'GET':\n",
    "        return \"<p>You reached the service via GET!</p>\"\n",
    "    if request.method == 'POST':\n",
    "        data = request.form\n",
    "        print(request.data)"
   ]
  }
 ],
 "metadata": {
  "kernelspec": {
   "display_name": "myGPT",
   "language": "python",
   "name": "python3"
  },
  "language_info": {
   "codemirror_mode": {
    "name": "ipython",
    "version": 3
   },
   "file_extension": ".py",
   "mimetype": "text/x-python",
   "name": "python",
   "nbconvert_exporter": "python",
   "pygments_lexer": "ipython3",
   "version": "3.11.3"
  },
  "orig_nbformat": 4
 },
 "nbformat": 4,
 "nbformat_minor": 2
}
